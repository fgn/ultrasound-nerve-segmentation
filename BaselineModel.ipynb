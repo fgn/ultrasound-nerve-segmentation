{
 "cells": [
  {
   "cell_type": "code",
   "execution_count": 1,
   "metadata": {
    "collapsed": true
   },
   "outputs": [],
   "source": [
    "import tensorflow as tf\n",
    "from convert_to_record import read_and_decode_image\n",
    "\n",
    "def train_data(images_tfrecord, masks_tfrecord, size=(420, 580)):\n",
    "    images_queue = tf.train.string_input_producer([images_tfrecord])\n",
    "    image = read_and_decode_image(images_queue, size)\n",
    "    \n",
    "    masks_queue = tf.train.string_input_producer([masks_tfrecord])\n",
    "    mask = tf.to_float(tf.greater(read_and_decode_image(masks_queue, size)[:,:, 0], 0))\n",
    "    return image, mask\n",
    "\n",
    "def preprocess(image):\n",
    "    # First, the image is essentially grayscale.\n",
    "    gray_image = tf.image.rgb_to_grayscale(image)\n",
    "    \n",
    "    # Then we want to normalize.\n",
    "    normalized_image = (1.0/255)*(tf.to_float(gray_image) - 127.0)\n",
    "    \n",
    "    # We'll likely also want to produce random perturbation of the\n",
    "    # data to synthetically increase the size of the data set\n",
    "    # TODO(kjchavez): Add random jitter.\n",
    "    \n",
    "    return normalized_image\n",
    "\n",
    "def batched_train_data(images_tfrecord, masks_tfrecord, batch_size=32, size=(420, 580)):\n",
    "    image, mask = train_data(images_tfrecord, masks_tfrecord, size=size)\n",
    "    image = preprocess(image)\n",
    "    image_batch, mask_batch = tf.train.batch([image, mask], batch_size)\n",
    "    return image_batch, mask_batch"
   ]
  },
  {
   "cell_type": "code",
   "execution_count": 2,
   "metadata": {
    "collapsed": false
   },
   "outputs": [],
   "source": [
    "# The predictive model.\n",
    "\n",
    "def predict(X):\n",
    "    \"\"\" Produces logits for each pixel in a training image, corresponding to\n",
    "        the probability that it is part of the sought-after nerve.\n",
    "    \"\"\"\n",
    "    # Allocate variables on GPU.\n",
    "    with tf.device(\"/gpu:0\"):\n",
    "        W1 = tf.get_variable(\"w1\", [5, 5, 1, 32], initializer=tf.truncated_normal_initializer(stddev=0.2))\n",
    "        b1 = tf.get_variable(\"b1\", [32], initializer=tf.constant_initializer(0.0))\n",
    "        W2 = tf.get_variable(\"w2\", [1, 1, 32, 1], initializer=tf.truncated_normal_initializer(stddev=0.2))\n",
    "        b2 = tf.get_variable(\"b2\", [1], initializer=tf.constant_initializer(0.0))\n",
    "        \n",
    "    conv1 = tf.nn.conv2d(X, W1, strides=(1,1,1,1), padding='SAME', name=\"conv\")\n",
    "    a1 = tf.nn.relu(tf.nn.bias_add(conv1, b1))\n",
    "    conv2 = tf.nn.conv2d(a1, W2, strides=(1,1,1,1), padding='SAME', name=\"net_in_net\")\n",
    "    return tf.squeeze(tf.nn.bias_add(conv2, b2))\n",
    "\n",
    "def prob(logits):\n",
    "    output_prob = tf.nn.sigmoid(logits)\n",
    "    return output_prob\n",
    "\n",
    "def xentropy_loss(logits, y):\n",
    "    xentropy = tf.nn.sigmoid_cross_entropy_with_logits(logits, y, name=\"xentropy_loss\")\n",
    "    return tf.reduce_mean(xentropy)\n",
    "    "
   ]
  },
  {
   "cell_type": "code",
   "execution_count": 3,
   "metadata": {
    "collapsed": false
   },
   "outputs": [],
   "source": [
    "# Build a model\n",
    "X, y = batched_train_data(\"train_images.tfrecord\", \"train_masks.tfrecord\")\n",
    "\n",
    "with tf.variable_scope(\"model\") as scope:\n",
    "    logits = predict(X)\n",
    "    y_pred = prob(logits)\n",
    "\n",
    "loss = xentropy_loss(logits, y)\n",
    "init_op = tf.initialize_all_variables()"
   ]
  },
  {
   "cell_type": "code",
   "execution_count": 5,
   "metadata": {
    "collapsed": false
   },
   "outputs": [
    {
     "name": "stdout",
     "output_type": "stream",
     "text": [
      "Starting training.\n",
      "0.737397\n",
      "0.738385\n",
      "0.738373\n",
      "0.739011\n",
      "0.73803\n",
      "0.738464\n",
      "0.73972\n",
      "0.739476\n",
      "0.739319\n",
      "0.737215\n"
     ]
    }
   ],
   "source": [
    "# Run the model\n",
    "import numpy as np\n",
    "num_batches = 10\n",
    "with tf.Session() as sess:\n",
    "    sess.run(init_op)\n",
    "    coord = tf.train.Coordinator()\n",
    "    threads = tf.train.start_queue_runners(sess=sess, coord=coord)\n",
    "    \n",
    "    # Do stuff\n",
    "    print \"Starting training.\"\n",
    "    for n in xrange(num_batches):\n",
    "        y_val, y_pred_val, loss_value = sess.run([y, y_pred, loss])\n",
    "        print loss_value\n",
    "    \n",
    "    coord.request_stop()\n",
    "    coord.join(threads)"
   ]
  },
  {
   "cell_type": "code",
   "execution_count": 40,
   "metadata": {
    "collapsed": false
   },
   "outputs": [
    {
     "data": {
      "text/plain": [
       "<matplotlib.image.AxesImage at 0x7ff49db83a10>"
      ]
     },
     "execution_count": 40,
     "metadata": {},
     "output_type": "execute_result"
    },
    {
     "data": {
      "image/png": "[encoded data removed]",
      "text/plain": [
       "<matplotlib.figure.Figure at 0x7ff49e5a6e50>"
      ]
     },
     "metadata": {},
     "output_type": "display_data"
    }
   ],
   "source": [
    "%matplotlib inline\n",
    "import matplotlib.pyplot as plt\n",
    "\n",
    "t = np.reshape(y_val[1], (580, 420))\n",
    "t_hat = np.reshape(y_pred_val[1], (580, 420)) > 0.6\n",
    "plt.subplot(121)\n",
    "plt.imshow(t, cmap='gray')\n",
    "plt.subplot(122)\n",
    "plt.imshow(t_hat.astype(np.float), cmap='gray', clim=(0, 1.0))"
   ]
  }
 ],
 "metadata": {
  "kernelspec": {
   "display_name": "Python 2",
   "language": "python",
   "name": "python2"
  },
  "language_info": {
   "codemirror_mode": {
    "name": "ipython",
    "version": 2
   },
   "file_extension": ".py",
   "mimetype": "text/x-python",
   "name": "python",
   "nbconvert_exporter": "python",
   "pygments_lexer": "ipython2",
   "version": "2.7.6"
  }
 },
 "nbformat": 4,
 "nbformat_minor": 0
}
