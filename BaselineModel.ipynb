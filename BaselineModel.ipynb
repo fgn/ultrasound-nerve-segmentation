{
 "cells": [
  {
   "cell_type": "code",
   "execution_count": 1,
   "metadata": {
    "collapsed": true
   },
   "outputs": [],
   "source": [
    "import tensorflow as tf\n",
    "from convert_to_record import read_and_decode_image\n",
    "\n",
    "def train_data(images_tfrecord, masks_tfrecord, size=(420, 580)):\n",
    "    images_queue = tf.train.string_input_producer([images_tfrecord])\n",
    "    image = read_and_decode_image(images_queue, size)\n",
    "    \n",
    "    masks_queue = tf.train.string_input_producer([masks_tfrecord])\n",
    "    mask = read_and_decode_image(masks_queue, size)[:,:, 0]\n",
    "    return image, mask\n",
    "\n",
    "def preprocess(image):\n",
    "    # First, the image is essentially grayscale.\n",
    "    gray_image = tf.image.rgb_to_grayscale(image)\n",
    "    \n",
    "    # Then we want to normalize.\n",
    "    normalized_image = (1.0/255)*(tf.to_float(gray_image) - 127.0)\n",
    "    \n",
    "    # We'll likely also want to produce random perturbation of the\n",
    "    # data to synthetically increase the size of the data set\n",
    "    # TODO(kjchavez): Add random jitter.\n",
    "    \n",
    "    return normalized_image\n",
    "\n",
    "def batched_train_data(images_tfrecord, masks_tfrecord, batch_size=32, size=(420, 580)):\n",
    "    image, mask = train_data(images_tfrecord, masks_tfrecord, size=size)\n",
    "    image = preprocess(image)\n",
    "    image_batch, mask_batch = tf.train.batch([image, mask], batch_size)\n",
    "    return image_batch, mask_batch"
   ]
  },
  {
   "cell_type": "code",
   "execution_count": 2,
   "metadata": {
    "collapsed": false
   },
   "outputs": [],
   "source": [
    "# The predictive model.\n",
    "\n",
    "def predict(X):\n",
    "    # Allocate variables on GPU.\n",
    "    with tf.device(\"/gpu:0\"):\n",
    "        W1 = tf.get_variable(\"w1\", [5, 5, 1, 32], initializer=tf.truncated_normal_initializer(stddev=0.2))\n",
    "        b1 = tf.get_variable(\"b1\", [32], initializer=tf.constant_initializer(0.0))\n",
    "        W2 = tf.get_variable(\"w2\", [1, 1, 32, 1], initializer=tf.truncated_normal_initializer(stddev=0.2))\n",
    "        b2 = tf.get_variable(\"b2\", [1], initializer=tf.constant_initializer(0.0))\n",
    "        \n",
    "    conv1 = tf.nn.conv2d(X, W1, strides=(1,1,1,1), padding='SAME', name=\"conv\")\n",
    "    a1 = tf.nn.relu(tf.nn.bias_add(conv1, b1))\n",
    "    conv2 = tf.nn.conv2d(a1, W2, strides=(1,1,1,1), padding='SAME', name=\"net_in_net\")\n",
    "    output_prob = tf.nn.sigmoid(tf.nn.bias_add(conv2, b2))\n",
    "    return output_prob"
   ]
  },
  {
   "cell_type": "code",
   "execution_count": 3,
   "metadata": {
    "collapsed": true
   },
   "outputs": [],
   "source": [
    "# Build a model\n",
    "\n",
    "X, y = batched_train_data(\"train_images.tfrecord\", \"train_masks.tfrecord\")\n",
    "\n",
    "with tf.variable_scope(\"model1\") as scope:\n",
    "    y_hat = predict(X)\n",
    "\n",
    "init_op = tf.initialize_all_variables()"
   ]
  },
  {
   "cell_type": "code",
   "execution_count": null,
   "metadata": {
    "collapsed": false
   },
   "outputs": [],
   "source": [
    "# Run the model\n",
    "import numpy as np\n",
    "num_batches = 10\n",
    "with tf.Session() as sess:\n",
    "    sess.run(init_op)\n",
    "    coord = tf.train.Coordinator()\n",
    "    threads = tf.train.start_queue_runners(sess=sess, coord=coord)\n",
    "    \n",
    "    # Do stuff\n",
    "    print \"Starting training.\"\n",
    "    for n in xrange(num_batches):\n",
    "        y_hat_value = sess.run(y_hat)\n",
    "        print np.mean(y_hat_value)\n",
    "    \n",
    "    coord.request_stop()\n",
    "    coord.join(threads)"
   ]
  },
  {
   "cell_type": "code",
   "execution_count": 5,
   "metadata": {
    "collapsed": false
   },
   "outputs": [
    {
     "data": {
      "text/plain": [
       "(32, 420, 580, 1)"
      ]
     },
     "execution_count": 5,
     "metadata": {},
     "output_type": "execute_result"
    }
   ],
   "source": [
    "y_hat_value.shape"
   ]
  }
 ],
 "metadata": {
  "kernelspec": {
   "display_name": "Python 2",
   "language": "python",
   "name": "python2"
  },
  "language_info": {
   "codemirror_mode": {
    "name": "ipython",
    "version": 2
   },
   "file_extension": ".py",
   "mimetype": "text/x-python",
   "name": "python",
   "nbconvert_exporter": "python",
   "pygments_lexer": "ipython2",
   "version": "2.7.6"
  }
 },
 "nbformat": 4,
 "nbformat_minor": 0
}
