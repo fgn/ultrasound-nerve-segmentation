{
 "cells": [
  {
   "cell_type": "code",
   "execution_count": null,
   "metadata": {
    "collapsed": false
   },
   "outputs": [],
   "source": [
    "import os\n",
    "import cv2\n",
    "\n",
    "TRAIN_DIR = \"data/train\"\n",
    "TEST_DIR = \"data/test\"\n",
    "\n",
    "train_images = [os.path.join(TRAIN_DIR, filename) for filename in os.listdir(TRAIN_DIR)]"
   ]
  },
  {
   "cell_type": "code",
   "execution_count": null,
   "metadata": {
    "collapsed": false
   },
   "outputs": [],
   "source": [
    "# Extract filenames for training images and the corresponding segmentation.\n",
    "# Write this data to a file for posterity.\n",
    "file_prefix = [f.rsplit(\".\", 1)[0] for f in train_images if not f.endswith(\"mask.tif\")]\n",
    "mask_images = set(f for f in train_images if f.endswith(\"mask.tif\"))\n",
    "train_data = [(x+\".tif\", x+\"_mask.tif\") for x in file_prefix if x+\"_mask.tif\" in mask_images]\n",
    "train_X, train_y = zip(*train_data)\n",
    "\n",
    "with open(\"train_images.txt\",'w') as fp:\n",
    "    for filename in train_X:\n",
    "        print >> fp, filename\n",
    "        \n",
    "with open(\"train_masks.txt\", 'w') as fp:\n",
    "    for filename in train_y:\n",
    "        print >> fp, filename"
   ]
  },
  {
   "cell_type": "code",
   "execution_count": null,
   "metadata": {
    "collapsed": false
   },
   "outputs": [],
   "source": [
    "print cv2.imread(train_y[0])"
   ]
  },
  {
   "cell_type": "code",
   "execution_count": null,
   "metadata": {
    "collapsed": false
   },
   "outputs": [],
   "source": [
    "# Let's visualize a couple a training pair just as a sanity check\n",
    "\n",
    "%matplotlib inline\n",
    "import matplotlib.pyplot as plt\n",
    "from image_utils import cv_imshow\n",
    "\n",
    "def show_image_and_mask(idx):\n",
    "    \"\"\" Displays a training image and the mask. \"\"\"\n",
    "    im = cv2.imread(train_X[idx])\n",
    "    plt.subplot(121)\n",
    "    cv_imshow(im)\n",
    "\n",
    "    mask = cv2.imread(train_y[idx])\n",
    "    plt.subplot(122)\n",
    "    cv_imshow(mask)\n",
    "    \n",
    "show_image_and_mask(4)"
   ]
  },
  {
   "cell_type": "code",
   "execution_count": 1,
   "metadata": {
    "collapsed": false
   },
   "outputs": [
    {
     "name": "stdout",
     "output_type": "stream",
     "text": [
      "Detected image shape (580 x 420)\n",
      "Processed 1000 images\n",
      "Processed 2000 images\n",
      "Processed 3000 images\n",
      "Processed 4000 images\n",
      "Processed 5000 images\n",
      "Detected image shape (580 x 420)\n",
      "Processed 1000 images\n",
      "Processed 2000 images\n",
      "Processed 3000 images\n",
      "Processed 4000 images\n",
      "Processed 5000 images\n"
     ]
    }
   ],
   "source": [
    "from convert_to_record import create_tf_record, image_generator\n",
    "\n",
    "create_tf_record(image_generator('train_images.txt'),'train_images.tfrecord')\n",
    "create_tf_record(image_generator('train_masks.txt'),'train_masks.tfrecord')"
   ]
  }
 ],
 "metadata": {
  "kernelspec": {
   "display_name": "Python 2",
   "language": "python",
   "name": "python2"
  },
  "language_info": {
   "codemirror_mode": {
    "name": "ipython",
    "version": 2
   },
   "file_extension": ".py",
   "mimetype": "text/x-python",
   "name": "python",
   "nbconvert_exporter": "python",
   "pygments_lexer": "ipython2",
   "version": "2.7.6"
  }
 },
 "nbformat": 4,
 "nbformat_minor": 0
}
