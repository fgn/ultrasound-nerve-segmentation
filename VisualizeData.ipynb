{
 "cells": [
  {
   "cell_type": "code",
   "execution_count": 1,
   "metadata": {
    "collapsed": false
   },
   "outputs": [],
   "source": [
    "import os\n",
    "import cv2\n",
    "\n",
    "TRAIN_DIR = \"data/train\"\n",
    "TEST_DIR = \"data/test\"\n",
    "\n",
    "train_images = [os.path.join(TRAIN_DIR, filename) for filename in os.listdir(TRAIN_DIR)]"
   ]
  },
  {
   "cell_type": "code",
   "execution_count": 8,
   "metadata": {
    "collapsed": false
   },
   "outputs": [
    {
     "name": "stdout",
     "output_type": "stream",
     "text": [
      "\n"
     ]
    }
   ],
   "source": [
    "# Extract filenames for training images and the corresponding segmentation.\n",
    "file_prefix = [f.rsplit(\".\", 1)[0] for f in train_images if not f.endswith(\"mask.tif\")]\n",
    "mask_images = set(f for f in train_images if f.endswith(\"mask.tif\"))\n",
    "train_data = [(x+\".tif\", x+\"_mask.tif\") for x in file_prefix if x+\"_mask.tif\" in mask_images]\n",
    "train_X, train_y = zip(*train_data)"
   ]
  },
  {
   "cell_type": "code",
   "execution_count": 12,
   "metadata": {
    "collapsed": false
   },
   "outputs": [
    {
     "name": "stdout",
     "output_type": "stream",
     "text": [
      "data/train/18_14.tif data/train/18_14_mask.tif\n"
     ]
    },
    {
     "data": {
      "image/png": "[encoded data removed]",
      "text/plain": [
       "<matplotlib.figure.Figure at 0x7fa6000a8d10>"
      ]
     },
     "metadata": {},
     "output_type": "display_data"
    }
   ],
   "source": [
    "%matplotlib inline\n",
    "import matplotlib.pyplot as plt\n",
    "from image_utils import cv_imshow\n",
    "\n",
    "im = cv2.imread(train_X[2])\n",
    "cv_imshow(im)\n",
    "\n",
    "mask = cv2.imread(train_y[2])\n",
    "cv_imshow(mask)\n",
    "print train_X[0], train_y[0]"
   ]
  }
 ],
 "metadata": {
  "kernelspec": {
   "display_name": "Python 2",
   "language": "python",
   "name": "python2"
  },
  "language_info": {
   "codemirror_mode": {
    "name": "ipython",
    "version": 2
   },
   "file_extension": ".py",
   "mimetype": "text/x-python",
   "name": "python",
   "nbconvert_exporter": "python",
   "pygments_lexer": "ipython2",
   "version": "2.7.6"
  }
 },
 "nbformat": 4,
 "nbformat_minor": 0
}
